{
 "cells": [
  {
   "cell_type": "code",
   "execution_count": 6,
   "metadata": {},
   "outputs": [
    {
     "output_type": "stream",
     "name": "stdout",
     "text": [
      "3\n"
     ]
    }
   ],
   "source": [
    "import numpy as np \n",
    "matrix = np.load(\"/home/vssdeep/Desktop/intel_realsense/numpy/depth.npy\")\n",
    "matrix2 = np.load(\"/home/vssdeep/Desktop/intel_realsense/numpy/color.npy\")\n",
    "#matrix = np.expand_dims(matrix,axis=2)\n",
    "#matrix2 =np.load('depth_numpy.npy')\n",
    "print(matrix.ndim)\n",
    "#print(matrix2.shape)"
   ]
  },
  {
   "cell_type": "code",
   "execution_count": 12,
   "metadata": {},
   "outputs": [
    {
     "output_type": "stream",
     "name": "stdout",
     "text": [
      "(2,) 1\n(1, 2) 2\n(1, 2, 1) 3\n"
     ]
    }
   ],
   "source": [
    "x = np.array([1, 2])\n",
    "print(x.shape,x.ndim)\n",
    "y= np.expand_dims(x, axis=0)\n",
    "print(y.shape,y.ndim)\n",
    "y= np.expand_dims(y, axis=2)\n",
    "print(y.shape,y.ndim)"
   ]
  },
  {
   "cell_type": "code",
   "execution_count": 5,
   "metadata": {
    "tags": []
   },
   "outputs": [
    {
     "output_type": "stream",
     "name": "stdout",
     "text": [
      "(480, 640, 11)\n"
     ]
    }
   ],
   "source": [
    "import matplotlib.pyplot as plt \n",
    "import numpy as np\n",
    "import glob\n",
    "import os, sys\n",
    "fpath =\"/home/vssdeep/Desktop/intel_realsense/numpy/depth_1/output.npy\"\n",
    "npyfilespath =\"/home/vssdeep/Desktop/intel_realsense/numpy/depth_1\"\n",
    "os.chdir(npyfilespath)   \n",
    "if os.path.islink:   \n",
    "    os.remove('/home/vssdeep/Desktop/intel_realsense/numpy/depth_1/output.npy')\n",
    "npfiles= glob.glob(\"*.npy\")\n",
    "npfiles.sort()\n",
    "all_arrays = []\n",
    "a = []\n",
    "\n",
    "for i, npfile in enumerate(npfiles):\n",
    "    #print(npfile)\n",
    "    a = np.expand_dims(np.load(os.path.join(npyfilespath, npfile)), axis=2)\n",
    "    all_arrays.append(a)\n",
    "a=np.concatenate(all_arrays,axis = 2)\n",
    "print(a.shape)\n",
    "np.save(fpath, np.concatenate(all_arrays,axis=2))\n"
   ]
  },
  {
   "cell_type": "code",
   "execution_count": 17,
   "metadata": {},
   "outputs": [
    {
     "output_type": "stream",
     "name": "stdout",
     "text": [
      "The file does not exist\n"
     ]
    }
   ],
   "source": [
    "depth_fpath = \"/home/vssdeep/Desktop/intel_realsense/numpy/depth_1/output.npy\"\n",
    "if os.path.exists(depth_fpath):\n",
    "  os.remove(depth_fpath)\n",
    "  print(\"delete it\")\n",
    "else:\n",
    "  print(\"The file does not exist\")"
   ]
  },
  {
   "cell_type": "code",
   "execution_count": null,
   "metadata": {},
   "outputs": [],
   "source": []
  }
 ],
 "metadata": {
  "kernelspec": {
   "display_name": "Python 3",
   "language": "python",
   "name": "python3"
  },
  "language_info": {
   "codemirror_mode": {
    "name": "ipython",
    "version": 3
   },
   "file_extension": ".py",
   "mimetype": "text/x-python",
   "name": "python",
   "nbconvert_exporter": "python",
   "pygments_lexer": "ipython3",
   "version": "3.8.5-final"
  }
 },
 "nbformat": 4,
 "nbformat_minor": 1
}